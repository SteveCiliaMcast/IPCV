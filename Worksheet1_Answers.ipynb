{
 "cells": [
  {
   "cell_type": "markdown",
   "id": "702677ec",
   "metadata": {},
   "source": [
    "# Worksheet 1 — Answers\n",
    "Generated on 2025-10-19 21:31"
   ]
  },
  {
   "cell_type": "markdown",
   "id": "7f2dc817",
   "metadata": {},
   "source": [
    "This notebook answers the tasks using **NumPy** for matrix operations and **Matplotlib**/**Pillow** for image display/saving. \n",
    "Run each cell in order."
   ]
  },
  {
   "cell_type": "code",
   "execution_count": null,
   "id": "b97fee71",
   "metadata": {},
   "outputs": [],
   "source": [
    "import numpy as np\n",
    "import matplotlib.pyplot as plt\n",
    "from PIL import Image\n",
    "from pathlib import Path\n",
    "\n",
    "# Ensure outputs display nicely in notebooks\n",
    "%matplotlib inline\n",
    "\n",
    "# Folder where we will save any generated images\n",
    "out_dir = Path('.')\n",
    "print('Saving images to:', out_dir.resolve())"
   ]
  },
  {
   "cell_type": "markdown",
   "id": "2fd5930d",
   "metadata": {},
   "source": [
    "## 1) Create matrix `M`"
   ]
  },
  {
   "cell_type": "code",
   "execution_count": null,
   "id": "aca31bde",
   "metadata": {},
   "outputs": [],
   "source": [
    "# Create matrix M with the given values\n",
    "M = np.array([[ 2,  4,  6,  8],\n",
    "              [10, 20, 30, 40],\n",
    "              [ 5, 10, 15, 20]], dtype=int)\n",
    "print('M =\\n', M)"
   ]
  },
  {
   "cell_type": "markdown",
   "id": "5c3dcfd9",
   "metadata": {},
   "source": [
    "## 2) Get the 2nd row of `M` using the colon operator `:`"
   ]
  },
  {
   "cell_type": "code",
   "execution_count": null,
   "id": "b6f04fec",
   "metadata": {},
   "outputs": [],
   "source": [
    "# In Python/NumPy, rows/columns are 0-indexed. '2nd row' means index 1.\n",
    "row2 = M[1, :]   # row index 1, all columns\n",
    "print('Second row:', row2)"
   ]
  },
  {
   "cell_type": "markdown",
   "id": "22fbe6fb",
   "metadata": {},
   "source": [
    "## 3) Get the 4th column of `M` using the colon operator `:`"
   ]
  },
  {
   "cell_type": "code",
   "execution_count": null,
   "id": "62ff04f9",
   "metadata": {},
   "outputs": [],
   "source": [
    "# 4th column has index 3 (0-based indexing)\n",
    "col4 = M[:, 3]   # all rows, column index 3\n",
    "print('Fourth column:', col4)"
   ]
  },
  {
   "cell_type": "markdown",
   "id": "85f60426",
   "metadata": {},
   "source": [
    "## 4) Assign all elements of `M` greater than 9 the value 0"
   ]
  },
  {
   "cell_type": "code",
   "execution_count": null,
   "id": "57422989",
   "metadata": {},
   "outputs": [],
   "source": [
    "M_mod = M.copy()\n",
    "M_mod[M_mod > 9] = 0\n",
    "print('M with elements > 9 set to 0:\\n', M_mod)"
   ]
  },
  {
   "cell_type": "markdown",
   "id": "c7f6ea2f",
   "metadata": {},
   "source": [
    "## 5) Create matrix `M2` of random integers (0–255) with the size of `M` and display it as a grayscale image"
   ]
  },
  {
   "cell_type": "code",
   "execution_count": null,
   "id": "aa9cbf62",
   "metadata": {},
   "outputs": [],
   "source": [
    "# M has shape (3, 4); we generate uint8 values in [0, 255].\n",
    "M2 = np.random.randint(0, 256, size=M.shape, dtype=np.uint8)\n",
    "print('M2 shape:', M2.shape, '| dtype:', M2.dtype)\n",
    "plt.figure()\n",
    "plt.imshow(M2, cmap='gray', vmin=0, vmax=255)\n",
    "plt.title('Random grayscale image from M2')\n",
    "plt.axis('off')\n",
    "plt.show()"
   ]
  },
  {
   "cell_type": "markdown",
   "id": "eed6c474",
   "metadata": {},
   "source": [
    "## 6) Create an RGB image `M3` of size 100×200 pixels\n",
    "Left half **orange**, right half **blue**; display and save it.\n",
    "- Orange RGB = (255, 165, 0)\n",
    "- Blue RGB   = (0, 0, 255)"
   ]
  },
  {
   "cell_type": "code",
   "execution_count": null,
   "id": "5116f4a7",
   "metadata": {},
   "outputs": [],
   "source": [
    "H, W = 100, 200\n",
    "M3 = np.zeros((H, W, 3), dtype=np.uint8)\n",
    "\n",
    "# Define colors\n",
    "orange = np.array([255, 165,   0], dtype=np.uint8)\n",
    "blue   = np.array([  0,   0, 255], dtype=np.uint8)\n",
    "\n",
    "# Left half (columns 0..99) -> orange; Right half (columns 100..199) -> blue\n",
    "mid = W // 2\n",
    "M3[:, :mid, :] = orange\n",
    "M3[:, mid:, :] = blue\n",
    "\n",
    "# Display\n",
    "plt.figure()\n",
    "plt.imshow(M3)\n",
    "plt.title('M3: Left orange, right blue (RGB)')\n",
    "plt.axis('off')\n",
    "plt.show()\n",
    "\n",
    "# Save\n",
    "m3_path = Path(out_dir) / 'M3_orange_blue.png'\n",
    "Image.fromarray(M3).save(m3_path)\n",
    "print('Saved:', m3_path.resolve())"
   ]
  },
  {
   "cell_type": "markdown",
   "id": "14a3af49",
   "metadata": {},
   "source": [
    "## 7) Create `M4` as an **RGBA** image\n",
    "\"\n",
    "Copy from Q6, add a 4th channel **alpha** (transparency). Experiment with transparency levels.\n",
    "\n",
    "**Note:** In 8-bit RGBA, alpha `0` means **fully transparent** (invisible), while alpha `255` means **fully opaque** (no transparency)."
   ]
  },
  {
   "cell_type": "code",
   "execution_count": null,
   "id": "5a6a2f60",
   "metadata": {},
   "outputs": [],
   "source": [
    "# Start from the same colors/size as M3 and add an alpha channel.\n",
    "H, W = 100, 200\n",
    "M4 = np.zeros((H, W, 4), dtype=np.uint8)  # RGBA\n",
    "\n",
    "orange = np.array([255, 165,   0], dtype=np.uint8)\n",
    "blue   = np.array([  0,   0, 255], dtype=np.uint8)\n",
    "\n",
    "mid = W // 2\n",
    "\n",
    "# Base RGB\n",
    "M4[:, :mid, :3] = orange\n",
    "M4[:,  mid:, :3] = blue\n",
    "\n",
    "# Alpha channel experiments:\n",
    "# - Left half mostly opaque (alpha=220)\n",
    "# - Right half a horizontal gradient from fully transparent (0) at the top to opaque (255) at the bottom\n",
    "M4[:, :mid, 3] = 220\n",
    "\n",
    "# Create vertical gradient for the right half\n",
    "alpha_grad = np.linspace(0, 255, H, dtype=np.uint8).reshape(H, 1)\n",
    "M4[:, mid:, 3] = alpha_grad\n",
    "\n",
    "# Display (matplotlib respects RGBA)\n",
    "plt.figure()\n",
    "plt.imshow(M4)  # Will show transparency over the notebook background\n",
    "plt.title('M4: RGBA with transparency (left opaque, right vertical alpha gradient)')\n",
    "plt.axis('off')\n",
    "plt.show()\n",
    "\n",
    "# Save\n",
    "m4_path = Path(out_dir) / 'M4_orange_blue_rgba.png'\n",
    "Image.fromarray(M4, mode='RGBA').save(m4_path)\n",
    "print('Saved:', m4_path.resolve())\n",
    "\n",
    "# Show a few sample alpha values for verification\n",
    "print('Alpha (left half) unique:', np.unique(M4[:, :mid, 3]))\n",
    "print('Alpha (right half) range:', M4[:, mid:, 3].min(), 'to', M4[:, mid:, 3].max())"
   ]
  },
  {
   "cell_type": "markdown",
   "id": "0083b77c",
   "metadata": {},
   "source": [
    "### Transparency notes\n",
    "- **Alpha = 0** → fully transparent (pixel is invisible).\n",
    "- **Alpha = 255** (or 1.0 in normalized float) → fully opaque.\n",
    "- Values in between produce partial transparency (semi‑transparent overlay)."
   ]
  }
 ],
 "metadata": {
  "kernelspec": {
   "display_name": "Python 3",
   "language": "python",
   "name": "python3"
  },
  "language_info": {
   "name": "python",
   "version": ""
  }
 },
 "nbformat": 4,
 "nbformat_minor": 5
}
