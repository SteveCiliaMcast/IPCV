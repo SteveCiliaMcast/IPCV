{
 "cells": [
  {
   "cell_type": "code",
   "execution_count": 2,
   "id": "92644f3e",
   "metadata": {},
   "outputs": [
    {
     "name": "stdout",
     "output_type": "stream",
     "text": [
      "[[ 1  2  3  4]\n",
      " [ 5  6  7  8]\n",
      " [ 9 10 11 12]]\n"
     ]
    }
   ],
   "source": [
    "# [1 2 3 4]\n",
    "# [5 6 7 8]\n",
    "# [9 10 11 12]\n",
    "# We want to create a matrix of 3 rows and 4 columns\n",
    "\n",
    "import numpy as np\n",
    "\n",
    "# A matrix can be created using nested lists/arrays\n",
    "matrix = np.array([[1, 2, 3, 4],\n",
    "                     [5, 6, 7, 8],\n",
    "                        [9, 10, 11, 12]])\n",
    "\n",
    "print(matrix)"
   ]
  },
  {
   "cell_type": "code",
   "execution_count": 3,
   "id": "1953d80b",
   "metadata": {},
   "outputs": [
    {
     "name": "stdout",
     "output_type": "stream",
     "text": [
      "Element at row 1, column 2: 2\n",
      "Element at row 3, column 4: 12\n",
      "\n",
      "Row 2: [5 6 7 8]\n",
      "\n",
      "Column 3: [ 3  7 11]\n",
      "\n",
      "Diagonal elements: [ 1  6 11]\n",
      "Matrix shape: (3, 4)\n",
      "1\n",
      "6\n",
      "11\n",
      "\n",
      "Slicing examples:\n",
      "[6 7]\n",
      "[11 12]\n",
      "[[ 7  8]\n",
      " [11 12]]\n",
      "[2 3 4]\n",
      "[4 3 2 1]\n"
     ]
    }
   ],
   "source": [
    "# How to access elements in a matrix\n",
    "print(\"Element at row 1, column 2:\", matrix[0, 1])  # Output: 2\n",
    "print(\"Element at row 3, column 4:\", matrix[2, 3])  # Output: 12\n",
    "\n",
    "# Printing an entire row\n",
    "print(\"\\nRow 2:\", matrix[1, :])  # Output: [5 6 7 8]\n",
    "\n",
    "# Printing an entire column\n",
    "print(\"\\nColumn 3:\", matrix[:, 2])  # Output: [ 3  7 11]\n",
    "\n",
    "# Printing diagonal elements\n",
    "print(\"\\nDiagonal elements:\", matrix.diagonal())  # Output: [ 1  6 11]\n",
    "# OR use a for loop\n",
    "currentArrayShape = matrix.shape # Gets the shape of the matrix (rows, columns)\n",
    "print(\"Matrix shape:\", currentArrayShape)  # Output: (3, 4)\n",
    "\n",
    "for x in range (0, currentArrayShape[0]):\n",
    "    print(matrix[x, x])  # Output: 1 6 11\n",
    "\n",
    "# Slicing examples\n",
    "print(\"\\nSlicing examples:\")\n",
    "print(matrix[1, 1:3])   # Output: [6 7]\n",
    "print(matrix[2, 2:4])   # Output: [12 13]\n",
    "print(matrix[1:3, 2:4]) # Output: [[ 7  8]\n",
    "                        #          [11 12]]\n",
    "                        \n",
    "print(matrix[0, 1::])  # Output: [2 3 4] (from index 1 to end of first row)                         \n",
    "print(matrix[0, ::-1])  # Output: [ 4  3  2  1] (reverses the first row)"
   ]
  },
  {
   "cell_type": "code",
   "execution_count": 4,
   "id": "a64b7a06",
   "metadata": {},
   "outputs": [
    {
     "name": "stdout",
     "output_type": "stream",
     "text": [
      "\n",
      "10x10 matrix with zeros:\n",
      " [[0 0 0 0 0 0 0 0 0 0]\n",
      " [0 0 0 0 0 0 0 0 0 0]\n",
      " [0 0 0 0 0 0 0 0 0 0]\n",
      " [0 0 0 0 0 0 0 0 0 0]\n",
      " [0 0 0 0 0 0 0 0 0 0]\n",
      " [0 0 0 0 0 0 0 0 0 0]\n",
      " [0 0 0 0 0 0 0 0 0 0]\n",
      " [0 0 0 0 0 0 0 0 0 0]\n",
      " [0 0 0 0 0 0 0 0 0 0]\n",
      " [0 0 0 0 0 0 0 0 0 0]]\n",
      "\n",
      "10x10 matrix with random values:\n",
      " [[ 53 163 188 132 101 186  21 235  59  68]\n",
      " [127  19 207 135 253 191 231  53 194 238]\n",
      " [203 195 110 104 210 132  13 191  55 216]\n",
      " [163 137 134 149 162  85 211  90 201 253]\n",
      " [219  97 176  80 101 141 136 105  16 216]\n",
      " [196 157  97  96  95 175 235  79  47 193]\n",
      " [204 219  58 203 129 170 187 217  97  42]\n",
      " [ 81  24  14 205   4  35 235 205 156  41]\n",
      " [ 10 231 118  69  36 106 240 150 234 112]\n",
      " [162 135 167 146 246 191  13  20 150 145]]\n"
     ]
    }
   ],
   "source": [
    "# Creating a 10x10 matrix with zeros\n",
    "MyFirstImage = np.zeros((10, 10), dtype=np.uint8)\n",
    "print (\"\\n10x10 matrix with zeros:\\n\", MyFirstImage)\n",
    "\n",
    "MyFirstImage = np.random.randint(0, 256, size=MyFirstImage.shape)\n",
    "print (\"\\n10x10 matrix with random values:\\n\", MyFirstImage)\n"
   ]
  },
  {
   "cell_type": "code",
   "execution_count": 5,
   "id": "7314bd32",
   "metadata": {},
   "outputs": [
    {
     "data": {
      "image/png": "[encoded data removed]",
      "text/plain": [
       "<Figure size 640x480 with 1 Axes>"
      ]
     },
     "metadata": {},
     "output_type": "display_data"
    }
   ],
   "source": [
    "from PIL import Image\n",
    "import matplotlib.pyplot as plt\n",
    "import matplotlib.cm as cm\n",
    "import numpy as np\n",
    "\n",
    "plt.imshow(MyFirstImage, cmap=cm.gray) # <-- This displays the image\n",
    "plt.show() # <-- All this does in this scenario is forces a \"refresh\" of the image"
   ]
  }
 ],
 "metadata": {
  "kernelspec": {
   "display_name": "ipcv",
   "language": "python",
   "name": "python3"
  },
  "language_info": {
   "codemirror_mode": {
    "name": "ipython",
    "version": 3
   },
   "file_extension": ".py",
   "mimetype": "text/x-python",
   "name": "python",
   "nbconvert_exporter": "python",
   "pygments_lexer": "ipython3",
   "version": "3.12.2"
  }
 },
 "nbformat": 4,
 "nbformat_minor": 5
}
